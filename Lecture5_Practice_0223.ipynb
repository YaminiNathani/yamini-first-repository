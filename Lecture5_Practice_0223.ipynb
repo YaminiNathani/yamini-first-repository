{
 "cells": [
  {
   "cell_type": "markdown",
   "metadata": {},
   "source": [
    "# Lecture 5 Advanced Regression Models"
   ]
  },
  {
   "cell_type": "code",
   "execution_count": 1,
   "metadata": {},
   "outputs": [],
   "source": [
    "# import necessary libraries and specify that graphs should be plotted inline\n",
    "import numpy as np\n",
    "import pandas as pd\n",
    "import sklearn\n",
    "import matplotlib.pyplot as plt\n",
    "%matplotlib inline \n",
    "\n",
    "# warnings reported for function updates, ignore them\n",
    "import warnings\n",
    "warnings.filterwarnings('ignore')"
   ]
  },
  {
   "cell_type": "markdown",
   "metadata": {},
   "source": [
    "In this practice, we implement three advanced regression models: Polynomial Regression, Ridge Regression, and LASSO Regression. \n",
    "\n",
    "**Note: For all the model-relevant syntax, you can google the syntax (in bold) and get its manual.**"
   ]
  },
  {
   "cell_type": "markdown",
   "metadata": {},
   "source": [
    "## 1. Polynomial Regression\n",
    "### 1.1 Polynomial Regression Basics\n",
    "In a polynomial regression, the relationship between $y$ and $x$ is modeled as \"$k$<sup>th</sup> degree polynomial\" in $x$. \n",
    "\n",
    "For $k$<sup>th</sup> degree polynomial, the model is shown as:\n",
    "\n",
    "<center>$y = \\beta_0 + \\beta_1 x + \\beta_2 x^2 + ... + \\beta_k x^k + \\varepsilon$</center>\n",
    "\n",
    "**Polynomial with Multiple Variables**\n",
    "\n",
    "Note that when we have multiple variables, say, x1 and x2, the polynomials would be all potential combinations of x1 and x2. For example, a model with 2nd degree polynomial for (x1, x2) would be:\n",
    "\n",
    "\n",
    "<center>$y = \\beta_0 + \\beta_1 x_1 + \\beta_2 x_1^2 + \\beta_3 x_2 + \\beta_4 x_2^2 + \\beta_5 x_1 x_2 + \\varepsilon$</center>\n",
    "\n",
    "It is obvious that when the degree is higher, and when we have more variables, writing out the polynomials would be extremely tedious. (Fortunately, we do not need to generate the polynomials ourselves in Python.)\n",
    "\n",
    "\n",
    "### Data Loading and Splitting\n",
    "As multiple variables will be created in polynomial regression, we use a single input variable $x$ for simplicity. We will use the same dataset in the previous lecture, \"house.csv\". The dependent variable is **'TOTAL_VALUE'**. The independent variable is **'LOT_SQFT'**.\n",
    "\n",
    "**Practice:** \n",
    "- Let dependent variable be **'TOTAL_VALUE'**. Let independent variable be **'LOT_SQFT'**. \n",
    "    - Note: Use Series.to_frame() method to convert Series to DataFrame (i.e., 1D to 2D)\n",
    "- Split the data into 70% training and 30% test set. Set seed (random_state) = 42.\n",
    "- Check sample size of training and test set. "
   ]
  },
  {
   "cell_type": "code",
   "execution_count": 2,
   "metadata": {},
   "outputs": [
    {
     "name": "stdout",
     "output_type": "stream",
     "text": [
      "(5802,)\n",
      "(5802, 1)\n"
     ]
    }
   ],
   "source": [
    "# Data Loading\n",
    "house = pd.read_csv('house.csv')\n",
    "\n",
    "# Define X and Y Below, print the shape of house_X\n",
    "house_X = house['LOT_SQFT']\n",
    "house_y = house['TOTAL_VALUE']\n",
    "print(house_X.shape)\n",
    "\n",
    "# Note that house_X is a 1D array, which cannot fit in sklearn models as x.\n",
    "house_X = house[['LOT_SQFT']]\n",
    "# house_X = house_X.to_frame()   # alternative\n",
    "print(house_X.shape)"
   ]
  },
  {
   "cell_type": "code",
   "execution_count": 3,
   "metadata": {},
   "outputs": [
    {
     "data": {
      "text/plain": [
       "Index(['TOTAL_VALUE', 'TAX', 'LOT_SQFT', 'GROSS_AREA', 'LIVING_AREA', 'FLOORS',\n",
       "       'ROOMS', 'BEDROOMS', 'FULL_BATH', 'HALF_BATH', 'KITCHEN', 'FIREPLACE'],\n",
       "      dtype='object')"
      ]
     },
     "execution_count": 3,
     "metadata": {},
     "output_type": "execute_result"
    }
   ],
   "source": [
    "house.columns"
   ]
  },
  {
   "cell_type": "code",
   "execution_count": 4,
   "metadata": {},
   "outputs": [],
   "source": [
    "# Data Splitting, check sample\n",
    "from sklearn.model_selection import train_test_split\n",
    "\n",
    "X_train, X_test, y_train, y_test = train_test_split(house_X, house_y, \n",
    "                                                    test_size = 0.3, random_state = 42)"
   ]
  },
  {
   "cell_type": "markdown",
   "metadata": {},
   "source": [
    "### 1.2 Polynomial Regression with Scikit-Learn\n",
    "\n",
    "Estimating polynomial regression takes one extra step compared to linear regression. The reason is that generating polynomials is tedious, and we need a specific function to complete this step. Thus, the first step is to generate polynomials, and the second step is to run the linear regression.\n",
    "\n",
    "Specifically, the two steps are: \n",
    "\n",
    "- First, specify the degree of polynomial regression (i.e., speicfy $k$). Generate variables based on the specified degree. This step is done by creating a new polynomial feature object using syntax: \n",
    "<br> <center><span style=\"font-family:Calibri\"> **sklearn.preprocessing.PolynomialFeatures(degree)** </span></center>\n",
    "    - Use .fit_transform(X) method the get the transfered features.\n",
    "    - You need to specify the degree (i.e., degree = xxx) before training.\n",
    "\n",
    "- Second, run a linear regression based on the features generated in the first step. This step is done by: \n",
    "<br> <center><span style=\"font-family:Calibri\"> **sklearn.linear_model.LinearRegression()** </span></center>\n",
    "    - Recall that we have learned its features & functions: .fit, .predict, .score, .coef_, .intercept_"
   ]
  },
  {
   "cell_type": "markdown",
   "metadata": {},
   "source": [
    "**Practice**\n",
    "- Assume $k=3$. Run polynomial regression. (Hint: first create the polynomial features, then run the linear regression).\n",
    "- Obtain and report the mse for test set. (Hint: You need to generate polynomial features for test set to do predictions.)\n",
    "- Obtain and report the coefficient estimates (include and specify intercept)."
   ]
  },
  {
   "cell_type": "code",
   "execution_count": 5,
   "metadata": {},
   "outputs": [],
   "source": [
    "# S1. Obtain Polynomial Features \n",
    "from sklearn.preprocessing import PolynomialFeatures\n",
    "\n",
    "## S1.1 Define polynomial generation function and set the degree. Change x to x, x^2, x^3\n",
    "\n",
    "poly = PolynomialFeatures(degree = 3)"
   ]
  },
  {
   "cell_type": "code",
   "execution_count": 6,
   "metadata": {},
   "outputs": [
    {
     "data": {
      "text/plain": [
       "((4061, 4), (4061, 1))"
      ]
     },
     "execution_count": 6,
     "metadata": {},
     "output_type": "execute_result"
    }
   ],
   "source": [
    "# S1.2 Obtain the variables: Which set?\n",
    "\n",
    "X_train_poly = poly.fit_transform(X_train)\n",
    "X_train_poly.shape, X_train.shape"
   ]
  },
  {
   "cell_type": "code",
   "execution_count": 7,
   "metadata": {},
   "outputs": [
    {
     "data": {
      "text/plain": [
       "array(['1', 'LOT_SQFT', 'LOT_SQFT^2', 'LOT_SQFT^3'], dtype=object)"
      ]
     },
     "execution_count": 7,
     "metadata": {},
     "output_type": "execute_result"
    }
   ],
   "source": [
    "poly.get_feature_names_out()"
   ]
  },
  {
   "cell_type": "code",
   "execution_count": 8,
   "metadata": {},
   "outputs": [
    {
     "data": {
      "text/plain": [
       "LinearRegression()"
      ]
     },
     "execution_count": 8,
     "metadata": {},
     "output_type": "execute_result"
    }
   ],
   "source": [
    "# S2. Run Linear Regression\n",
    "from sklearn.linear_model import LinearRegression\n",
    "\n",
    "# S2.1, define the linear regression function (plug in x, x^2, x^3, then obtain betas)\n",
    "lr = LinearRegression()\n",
    "\n",
    "## S2.2, train the model\n",
    "lr.fit(X_train_poly, y_train)"
   ]
  },
  {
   "cell_type": "code",
   "execution_count": 9,
   "metadata": {},
   "outputs": [
    {
     "name": "stdout",
     "output_type": "stream",
     "text": [
      "7045.946151190245\n",
      "7045.946151190245\n",
      "7045.946151190245\n"
     ]
    }
   ],
   "source": [
    "# S3. Predict and calculate error\n",
    "X_test_poly = poly.fit_transform(X_test)\n",
    "\n",
    "y_pred_test = lr.predict(X_test_poly)\n",
    "\n",
    "\n",
    "## Calculate mse\n",
    "e = y_test - y_pred_test\n",
    "print(np.mean(e**2))\n",
    "\n",
    "## Calculate mse - alternative 2\n",
    "print(np.sum(e**2) / y_pred_test.shape[0])\n",
    "\n",
    "## Calculate mse - alternative 3\n",
    "from sklearn.metrics import mean_squared_error as mse\n",
    "print(mse(y_test, y_pred_test))\n"
   ]
  },
  {
   "cell_type": "code",
   "execution_count": 10,
   "metadata": {},
   "outputs": [
    {
     "data": {
      "text/plain": [
       "(0.3235362995692006, 0.3235362995692006)"
      ]
     },
     "execution_count": 10,
     "metadata": {},
     "output_type": "execute_result"
    }
   ],
   "source": [
    "# S4. Report estimates\n",
    "\n",
    "from sklearn.metrics import r2_score\n",
    "\n",
    "r2_score(y_test, y_pred_test), lr.score(X_test_poly, y_test)"
   ]
  },
  {
   "cell_type": "markdown",
   "metadata": {},
   "source": [
    "### Make Pipelines (Technical Pre-requisite to Obtain Optimal Degree)\n",
    "\n",
    "We need to define two functions that comes in a specific order to complete the previous task. In practice, it is recommended to use a \"pipeline\" to automate this process.\n",
    "\n",
    "To put two or multiple steps (e.g., PolynomialFeatures and LinearRegression) together with a specific sequence, we create a pipeline object using syntax:\n",
    "<br> <center><span style=\"font-family:Calibri\"> **sklearn.pipeline.make_pipeline()** </span></center>\n",
    "- The inputs are the models used in the process. The order of input should be the order of your models/objects.\n",
    "- The pipeline object will replace your original model for estimation. You can imagine that make_pipeline is putting your models in a bucket following a specific order.\n",
    "\n",
    "Similar to other models, we can still use  .fit, .fit_transform, .score, .predict and so on.\n",
    "\n",
    "Specific to make_pipeline(), we can use **.named_steps** to obtain the models inside the bucket. If the model is trained, then all the necessary information can be accessed as well (e.g., coefficients, intercept, etc.) To specify which model you want to look into, use ['Python_Defined_Model_Name']"
   ]
  },
  {
   "cell_type": "markdown",
   "metadata": {},
   "source": [
    "**Practice: Using make_pipeline for simple polynomial regression**\n",
    "\n",
    "Use make_pipeline to run the polynomial regression with degree = 3. \n",
    "- Define the two steps first. Then put them in a pipeline.\n",
    "- Train the model using the pipeline you created.\n",
    "- Obtain the mse for test set.\n",
    "- Compare the process with the previous practice, what are the differences in the progress?"
   ]
  },
  {
   "cell_type": "code",
   "execution_count": 11,
   "metadata": {},
   "outputs": [
    {
     "data": {
      "text/plain": [
       "(10418.610143818758, -0.0002647508231297113)"
      ]
     },
     "execution_count": 11,
     "metadata": {},
     "output_type": "execute_result"
    }
   ],
   "source": [
    "### In below, use make_pipeline for practice\n",
    "from sklearn.preprocessing  import PolynomialFeatures\n",
    "from sklearn.linear_model import LinearRegression\n",
    "from sklearn.pipeline import make_pipeline\n",
    "\n",
    "# S1. Define models - two models, polynomial transfer first, then linear regression \n",
    "\n",
    "poly_first = PolynomialFeatures(degree = 20)\n",
    "lr_second = LinearRegression()\n",
    "\n",
    "# S2. Apply polynomial regression in pipeline\n",
    "\n",
    "poly_pipe = make_pipeline(poly_first, lr_second)\n",
    "poly_pipe.fit(X_train, y_train)\n",
    "\n",
    "\n",
    "# S3. Predict and get mse\n",
    "y_pred_auto = poly_pipe.predict(X_test)\n",
    "\n",
    "mse(y_test, y_pred_auto), poly_pipe.score(X_test, y_test)"
   ]
  },
  {
   "cell_type": "markdown",
   "metadata": {},
   "source": [
    "**Practice: Getting results from make_pipeline**\n",
    "- Obtain and report the coefficients, and the intercept."
   ]
  },
  {
   "cell_type": "code",
   "execution_count": 12,
   "metadata": {},
   "outputs": [
    {
     "data": {
      "text/plain": [
       "{'polynomialfeatures': PolynomialFeatures(degree=20),\n",
       " 'linearregression': LinearRegression()}"
      ]
     },
     "execution_count": 12,
     "metadata": {},
     "output_type": "execute_result"
    }
   ],
   "source": [
    "poly_pipe.named_steps"
   ]
  },
  {
   "cell_type": "code",
   "execution_count": 13,
   "metadata": {},
   "outputs": [
    {
     "data": {
      "text/plain": [
       "array([ 0.00000000e+000, -1.67358557e-082,  1.74244917e-089,\n",
       "       -2.39701829e-094,  1.00121755e-139,  5.17186910e-136,\n",
       "       -7.43537648e-118,  1.08432579e-119,  1.72677330e-122,\n",
       "        5.54172219e-118,  1.73531814e-113,  5.33733113e-109,\n",
       "        1.60308697e-104,  4.66311641e-100,  1.29732901e-095,\n",
       "        3.38277214e-091,  7.97115789e-087,  1.57161723e-082,\n",
       "        2.07403171e-078, -9.77986433e-083,  1.14473139e-087])"
      ]
     },
     "execution_count": 13,
     "metadata": {},
     "output_type": "execute_result"
    }
   ],
   "source": [
    "poly_pipe.named_steps['linearregression'].coef_"
   ]
  },
  {
   "cell_type": "code",
   "execution_count": 14,
   "metadata": {},
   "outputs": [
    {
     "data": {
      "text/plain": [
       "391.1727690502538"
      ]
     },
     "execution_count": 14,
     "metadata": {},
     "output_type": "execute_result"
    }
   ],
   "source": [
    "poly_pipe.named_steps['linearregression'].intercept_"
   ]
  },
  {
   "cell_type": "code",
   "execution_count": 15,
   "metadata": {},
   "outputs": [
    {
     "data": {
      "text/plain": [
       "(-0.0002647508231297113, 0.02402344796256306)"
      ]
     },
     "execution_count": 15,
     "metadata": {},
     "output_type": "execute_result"
    }
   ],
   "source": [
    "poly_pipe.score(X_test, y_test), poly_pipe.score(X_train, y_train)"
   ]
  },
  {
   "cell_type": "markdown",
   "metadata": {},
   "source": [
    "### 1.3 Hyperparameter Tuning with Polynomial Regression\n",
    "In the previous case, we consider a naive scenario where k = 3. Recall that k is the hyperparameter. To get a better prediction result, we may consider tune the degree k to find the k that gives the best performance.\n",
    "\n",
    "To make best use of our data, and to avoid overfitting, we will apply cross-validation for performance measure. The best k should be chosen based on the (mean) performance of the validation set."
   ]
  },
  {
   "cell_type": "markdown",
   "metadata": {},
   "source": [
    "\n",
    "Sklearn provides a nice syntax that combines grid search and cross validation:\n",
    "<br> <center><span style=\"font-family:Calibri\"> **sklearn.model_selection.GridSearchCV(estimator, param_grid, scoring,  cv)** </span></center>\n",
    "\n",
    "- estimator : the model. If a sequence of models, then use pipeline to put them together.\n",
    "- param_grid : dictionary format. Specifies the potential choice of parameters. The keys must be correct.\n",
    "- scoring : Performance measure. For linear models, default is R-square. Can be specified to mae (neg_mean_absolute_error), mse ('neg_mean_squared_error') as well.\n",
    "- cv : Determines the cross-validation splitting strategy. If cv is integer (say, k), then k-fold cv. Default is 5-fold cv.\n"
   ]
  },
  {
   "cell_type": "markdown",
   "metadata": {},
   "source": [
    "**Practice: Use GridSearchCV with polynomial regression - Train and Predict**\n",
    "\n",
    "Apply grid search for hyperparameter tuning, and select the best model based on cross-validation performance. Use R-square as the performance measure. Potential candidate of hyperparameter: integers from 1 to 5, include 1 and 5.\n",
    "- Define grid of hyperparameters.\n",
    "- Define the estimator.\n",
    "- Define gridsearchCV\n",
    "- Train the model. What is the test mse? Is the model chosen based on the test mse?"
   ]
  },
  {
   "cell_type": "code",
   "execution_count": 28,
   "metadata": {},
   "outputs": [
    {
     "data": {
      "text/plain": [
       "GridSearchCV(cv=6,\n",
       "             estimator=Pipeline(steps=[('polynomialfeatures',\n",
       "                                        PolynomialFeatures()),\n",
       "                                       ('linearregression',\n",
       "                                        LinearRegression())]),\n",
       "             param_grid={'polynomialfeatures__degree': range(1, 6)})"
      ]
     },
     "execution_count": 28,
     "metadata": {},
     "output_type": "execute_result"
    }
   ],
   "source": [
    "# load gridsearchCV\n",
    "from sklearn.model_selection import GridSearchCV\n",
    "\n",
    "# Load other modules\n",
    "from sklearn.preprocessing  import PolynomialFeatures\n",
    "from sklearn.pipeline import make_pipeline\n",
    "from sklearn.linear_model import LinearRegression\n",
    "\n",
    "# S1. Define grid of parameter. \n",
    "## The name should be exactly the same, otherwise cannot find which to specify.\n",
    "\n",
    "param_poly = {'polynomialfeatures__degree' :  range(1,6)  }\n",
    "\n",
    "# S2. Define estimator: use make_pipeline to combine two functions. \n",
    "\n",
    "grid_poly = PolynomialFeatures()\n",
    "grid_lr = LinearRegression()\n",
    "grid_pipe = make_pipeline(grid_poly, grid_lr)\n",
    "\n",
    "\n",
    "# S3. Define GridSearchCV Estimation function, then train the model\n",
    "\n",
    "gridsearch_poly = GridSearchCV(grid_pipe, param_poly, cv=6)\n",
    "gridsearch_poly.fit(X_train, y_train)\n",
    "\n"
   ]
  },
  {
   "cell_type": "code",
   "execution_count": 27,
   "metadata": {},
   "outputs": [
    {
     "data": {
      "text/plain": [
       "dict_keys(['memory', 'steps', 'verbose', 'polynomialfeatures', 'linearregression', 'polynomialfeatures__degree', 'polynomialfeatures__include_bias', 'polynomialfeatures__interaction_only', 'polynomialfeatures__order', 'linearregression__copy_X', 'linearregression__fit_intercept', 'linearregression__n_jobs', 'linearregression__normalize', 'linearregression__positive'])"
      ]
     },
     "execution_count": 27,
     "metadata": {},
     "output_type": "execute_result"
    }
   ],
   "source": [
    "grid_pipe.get_params().keys()"
   ]
  },
  {
   "cell_type": "code",
   "execution_count": null,
   "metadata": {},
   "outputs": [],
   "source": []
  },
  {
   "cell_type": "code",
   "execution_count": null,
   "metadata": {},
   "outputs": [],
   "source": []
  },
  {
   "cell_type": "markdown",
   "metadata": {},
   "source": [
    "**Outputs of GridSearchCV:**\n",
    "- best_score_ : the mean validation score of the best model. The best model's performance measure, based on which the model is chosen.\n",
    "- best_params_: the choice of hyperparameter\n",
    "- best_estimator_: the best model of choice (and corresponding results). You can access model estimates from this attribute.\n",
    "- cv_results_: detailed results stored (e.g., time & score of each hyperparameter, each iteration). Dictionary format.\n",
    "\n",
    "**Practice: Collect Results from GridSearchCV**\n",
    "- What is the chosen degree of polynomial regression?\n",
    "- For the best model, report its performance score based on which the model is chosen.\n",
    "- Explore attribute: cv_results_. Can you provide evidence of why the best model should be chosen? \n",
    "- Explore attribute:best_estimator_. Under the chosen model, what are the coefficients (include intercept)?"
   ]
  },
  {
   "cell_type": "code",
   "execution_count": 21,
   "metadata": {},
   "outputs": [
    {
     "data": {
      "text/plain": [
       "{'polynomialfeatures__degree': 3}"
      ]
     },
     "execution_count": 21,
     "metadata": {},
     "output_type": "execute_result"
    }
   ],
   "source": [
    "## 1. Chosen degree: this is the ...?\n",
    "gridsearch_poly.best_params_"
   ]
  },
  {
   "cell_type": "code",
   "execution_count": 22,
   "metadata": {},
   "outputs": [
    {
     "data": {
      "text/plain": [
       "0.3165111853173766"
      ]
     },
     "execution_count": 22,
     "metadata": {},
     "output_type": "execute_result"
    }
   ],
   "source": [
    "## 2. The performance is chosen based on ...?\n",
    "gridsearch_poly.best_score_"
   ]
  },
  {
   "cell_type": "code",
   "execution_count": 23,
   "metadata": {},
   "outputs": [
    {
     "data": {
      "text/plain": [
       "{'mean_fit_time': array([0.00292031, 0.00226541, 0.00222011, 0.0021683 , 0.00209113]),\n",
       " 'std_fit_time': array([0.00065281, 0.00042679, 0.00048816, 0.00037686, 0.00043869]),\n",
       " 'mean_score_time': array([0.00118212, 0.00111322, 0.0011303 , 0.00109486, 0.00100005]),\n",
       " 'std_score_time': array([4.73221070e-04, 2.16542284e-04, 2.90888170e-04, 2.11524376e-04,\n",
       "        4.07177240e-07]),\n",
       " 'param_polynomialfeatures__degree': masked_array(data=[1, 2, 3, 4, 5],\n",
       "              mask=[False, False, False, False, False],\n",
       "        fill_value='?',\n",
       "             dtype=object),\n",
       " 'params': [{'polynomialfeatures__degree': 1},\n",
       "  {'polynomialfeatures__degree': 2},\n",
       "  {'polynomialfeatures__degree': 3},\n",
       "  {'polynomialfeatures__degree': 4},\n",
       "  {'polynomialfeatures__degree': 5}],\n",
       " 'split0_test_score': array([0.2901017 , 0.32210747, 0.32988066, 0.33139226, 0.32827642]),\n",
       " 'split1_test_score': array([0.25110841, 0.28760917, 0.29059813, 0.28956572, 0.28232864]),\n",
       " 'split2_test_score': array([0.25583314, 0.27636774, 0.31139361, 0.30797745, 0.30068695]),\n",
       " 'split3_test_score': array([0.29956633, 0.34173388, 0.32700395, 0.32848091, 0.31880051]),\n",
       " 'split4_test_score': array([ 0.35013627,  0.25212187,  0.32268737,  0.19329356, -1.13881057]),\n",
       " 'split5_test_score': array([0.3067744 , 0.31929696, 0.31750338, 0.30906169, 0.29368914]),\n",
       " 'mean_test_score': array([0.29225337, 0.29987285, 0.31651119, 0.29329526, 0.06416185]),\n",
       " 'std_test_score': array([0.03326345, 0.03056977, 0.01307444, 0.04684693, 0.53820127]),\n",
       " 'rank_test_score': array([4, 2, 1, 3, 5])}"
      ]
     },
     "execution_count": 23,
     "metadata": {},
     "output_type": "execute_result"
    }
   ],
   "source": [
    "## 3. Check cv_results_\n",
    "gridsearch_poly.cv_results_"
   ]
  },
  {
   "cell_type": "code",
   "execution_count": 25,
   "metadata": {},
   "outputs": [
    {
     "data": {
      "text/plain": [
       "array([ 0.00000000e+00,  4.78463125e-02, -1.95203304e-06,  2.87628127e-11])"
      ]
     },
     "execution_count": 25,
     "metadata": {},
     "output_type": "execute_result"
    }
   ],
   "source": [
    "## 4. Check best_estimator_\n",
    "gridsearch_poly.best_estimator_['linearregression'].coef_"
   ]
  },
  {
   "cell_type": "markdown",
   "metadata": {},
   "source": [
    "## Ridge Regression"
   ]
  },
  {
   "cell_type": "markdown",
   "metadata": {},
   "source": [
    "Estimating ridge regression is done by syntax:\n",
    "<br> <center><span style=\"font-family:Calibri\"> **sklearn.linear_model.Ridge()** </span></center>\n",
    "The hyperparameter is specified as \"alpha\". By default, alpha = 1. *Note that this is the same for almost all models in sklearn.linear_model, including logistic regression*\n",
    "\n",
    "\n",
    "**Practice**\n",
    "- Prepare data as in polynomial case. Let $X$ be variables:  'GROSS_AREA', 'ROOMS', 'LIVING_AREA', 'LOT_SQFT', 'FLOORS', 'FULL_BATH'\n",
    "- Run ridge regression without model selection or CV. Use defalt alpha = 1\n",
    "- Run ridge regression with grid search and CV. Select tuning parameter from: [0.001, 0.01, 0.1, 1, 10,100].\n"
   ]
  },
  {
   "cell_type": "code",
   "execution_count": 29,
   "metadata": {},
   "outputs": [],
   "source": [
    "# Data Loading and Splitting\n",
    "var = ['GROSS_AREA', 'ROOMS', 'LIVING_AREA', 'LOT_SQFT', 'FLOORS', 'FULL_BATH']\n",
    "X = house[var]\n",
    "y = house['TOTAL_VALUE']\n",
    "\n",
    "X_train, X_test, y_train, y_test = train_test_split(X, y, random_state = 42, test_size = 0.3)\n"
   ]
  },
  {
   "cell_type": "code",
   "execution_count": 31,
   "metadata": {},
   "outputs": [
    {
     "data": {
      "text/plain": [
       "Ridge(alpha=1)"
      ]
     },
     "execution_count": 31,
     "metadata": {},
     "output_type": "execute_result"
    }
   ],
   "source": [
    "# Model and prediction\n",
    "from sklearn.linear_model import Ridge\n",
    "\n",
    "ridge_reg = Ridge(alpha = 1)\n",
    "ridge_reg.fit(X_train, y_train)"
   ]
  },
  {
   "cell_type": "code",
   "execution_count": 33,
   "metadata": {
    "scrolled": true
   },
   "outputs": [
    {
     "data": {
      "text/plain": [
       "array([3.19378284e-02, 7.32326341e-01, 5.99725568e-02, 8.74173838e-03,\n",
       "       4.46372940e+01, 1.78431657e+01])"
      ]
     },
     "execution_count": 33,
     "metadata": {},
     "output_type": "execute_result"
    }
   ],
   "source": [
    "ridge_reg.coef_"
   ]
  },
  {
   "cell_type": "code",
   "execution_count": 34,
   "metadata": {},
   "outputs": [
    {
     "data": {
      "text/plain": [
       "dict_keys(['alpha', 'copy_X', 'fit_intercept', 'max_iter', 'normalize', 'positive', 'random_state', 'solver', 'tol'])"
      ]
     },
     "execution_count": 34,
     "metadata": {},
     "output_type": "execute_result"
    }
   ],
   "source": [
    "ridge_reg.get_params().keys()"
   ]
  },
  {
   "cell_type": "code",
   "execution_count": 35,
   "metadata": {
    "collapsed": true
   },
   "outputs": [
    {
     "name": "stdout",
     "output_type": "stream",
     "text": [
      "0.783214249774319\n",
      "{'alpha': 1}\n",
      "{'mean_fit_time': array([0.00262918, 0.00100679, 0.00151157, 0.0014184 , 0.0013072 ,\n",
      "       0.00119991]), 'std_fit_time': array([5.17146740e-04, 1.42113473e-05, 4.55888868e-04, 4.81849632e-04,\n",
      "       4.10222688e-04, 4.00090285e-04]), 'mean_score_time': array([0.00139589, 0.00100012, 0.00099688, 0.0009336 , 0.00080676,\n",
      "       0.00080018]), 'std_score_time': array([4.99842203e-04, 2.33601546e-07, 8.73067872e-06, 5.32114000e-04,\n",
      "       4.03445701e-04, 4.00090228e-04]), 'param_alpha': masked_array(data=[0.001, 0.01, 0.1, 1, 10, 100],\n",
      "             mask=[False, False, False, False, False, False],\n",
      "       fill_value='?',\n",
      "            dtype=object), 'params': [{'alpha': 0.001}, {'alpha': 0.01}, {'alpha': 0.1}, {'alpha': 1}, {'alpha': 10}, {'alpha': 100}], 'split0_test_score': array([0.76903478, 0.7690351 , 0.76903827, 0.76906969, 0.76935984,\n",
      "       0.77059251]), 'split1_test_score': array([0.78676803, 0.78676787, 0.78676625, 0.78674995, 0.78657414,\n",
      "       0.78406381]), 'split2_test_score': array([0.80525107, 0.80525113, 0.80525168, 0.80525708, 0.80529418,\n",
      "       0.80456258]), 'split3_test_score': array([0.75986335, 0.75986305, 0.75986008, 0.75983029, 0.7595268 ,\n",
      "       0.75624662]), 'split4_test_score': array([0.79515084, 0.79515096, 0.79515219, 0.79516424, 0.79526638,\n",
      "       0.7950642 ]), 'mean_test_score': array([0.78321361, 0.78321362, 0.78321369, 0.78321425, 0.78320427,\n",
      "       0.78210594]), 'std_test_score': array([0.01665566, 0.01665571, 0.01665626, 0.01666174, 0.01671589,\n",
      "       0.01718903]), 'rank_test_score': array([4, 3, 2, 1, 5, 6])}\n"
     ]
    }
   ],
   "source": [
    "## Grid Search with CV\n",
    "\n",
    "# 1. Define a list of parameters (key is 'alpha')\n",
    "param_ridge = {'alpha' : [0.001, 0.01, 0.1, 1, 10, 100] }\n",
    "\n",
    "# 2. Define function and fit the data\n",
    "grid_ridge = Ridge()\n",
    "grid_ridge_est = GridSearchCV(grid_ridge, param_ridge, cv=5)\n",
    "grid_ridge_est.fit(X_train, y_train)\n",
    "\n",
    "# 3.1 Present performance measure\n",
    "print(grid_ridge_est.best_score_)\n",
    "\n",
    "# 3.2 find best hyperparameters\n",
    "print(grid_ridge_est.best_params_)\n",
    "\n",
    "# 3.3 find best parameter estimates\n",
    "print(grid_ridge_est.cv_results_)"
   ]
  },
  {
   "cell_type": "markdown",
   "metadata": {},
   "source": [
    "## LASSO\n",
    "\n",
    "Estimating LASSO regression is done by creating a Lasso object using syntax:\n",
    "<br> <center><span style=\"font-family:Calibri\"> **sklearn.linear_model.Lasso** </span></center>\n",
    "- hyperparameter is also alpha. Default is 1.\n",
    "\n",
    "**Practice**\n",
    "- Prepare data as in polynomial case. Let $X$ be 'GROSS_AREA', 'ROOMS', 'LIVING_AREA', 'LOT_SQFT', 'FLOORS', 'FULL_BATH'.\n",
    "- Run LASSO regression without model selection or CV\n",
    "- Run LASSO regression with grid search and CV. Select tuning parameter from: [0.00001, 0.0001, 0.001, 0.01, 0.1, 1, 10]."
   ]
  },
  {
   "cell_type": "code",
   "execution_count": null,
   "metadata": {},
   "outputs": [],
   "source": [
    "# Model and prediction with default hyperparameter\n",
    "from sklearn.linear_model import Lasso\n",
    "\n"
   ]
  },
  {
   "cell_type": "code",
   "execution_count": null,
   "metadata": {},
   "outputs": [],
   "source": [
    "# Grid Search with CV - LASSO Case\n"
   ]
  },
  {
   "cell_type": "code",
   "execution_count": null,
   "metadata": {},
   "outputs": [],
   "source": []
  },
  {
   "cell_type": "code",
   "execution_count": null,
   "metadata": {},
   "outputs": [],
   "source": []
  }
 ],
 "metadata": {
  "kernelspec": {
   "display_name": "Python 3 (ipykernel)",
   "language": "python",
   "name": "python3"
  },
  "language_info": {
   "codemirror_mode": {
    "name": "ipython",
    "version": 3
   },
   "file_extension": ".py",
   "mimetype": "text/x-python",
   "name": "python",
   "nbconvert_exporter": "python",
   "pygments_lexer": "ipython3",
   "version": "3.9.12"
  }
 },
 "nbformat": 4,
 "nbformat_minor": 4
}
